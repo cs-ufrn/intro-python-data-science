{
 "cells": [
  {
   "cell_type": "markdown",
   "metadata": {
    "colab_type": "text",
    "id": "Ho2uB9w6oqUY"
   },
   "source": [
    "# Advanced plot\n",
    "\n",
    "There are several libraries to pruduce amazing plots, like:\n",
    "\n",
    "- [Plotly](https://plot.ly/)\n",
    "- [Bokeh](https://bokeh.pydata.org)\n",
    "- [Dash](https://plot.ly/products/dash/)\n",
    "- [Folium](http://python-visualization.github.io/folium/)\n",
    "- [Matplotlib](https://matplotlib.org/)\n",
    "- [Seaborn](https://seaborn.pydata.org/)\n",
    "- [ggplot](https://ggplot2.tidyverse.org/)\n",
    "- [Pygal](http://www.pygal.org)\n",
    "- [Geoplotlib](https://github.com/andrea-cuttone/geoplotlib/wiki/User-Guide)\n",
    "- [missingno](https://github.com/ResidentMario/missingno)   \n"
   ]
  },
  {
   "cell_type": "code",
   "execution_count": 0,
   "metadata": {
    "colab": {},
    "colab_type": "code",
    "id": "NbYX_2XRxTyd"
   },
   "outputs": [],
   "source": [
    "# install additional packages\n",
    "!pip install plotly --upgrade\n",
    "\n",
    "# restart runtime!!!!!!!!!"
   ]
  },
  {
   "cell_type": "code",
   "execution_count": 0,
   "metadata": {
    "colab": {},
    "colab_type": "code",
    "id": "QLYTjxFcxhy0"
   },
   "outputs": [],
   "source": [
    "# execute this cell before and after update plotly\n",
    "# check the version\n",
    "from plotly import __version__\n",
    "__version__ "
   ]
  },
  {
   "cell_type": "markdown",
   "metadata": {
    "colab_type": "text",
    "id": "Qc2N3cX7xSvG"
   },
   "source": [
    "\n",
    "Let's use the first, because it is one of the most used libraries in data science and has the capacity of create complex charts with few lines of code. \n"
   ]
  },
  {
   "cell_type": "code",
   "execution_count": 0,
   "metadata": {
    "colab": {},
    "colab_type": "code",
    "id": "5lcbAK36oqUa"
   },
   "outputs": [],
   "source": [
    "# Importing libraries\n",
    "import pandas as pd\n",
    "import numpy as np\n",
    "#import plotly as py\n",
    "import plotly.offline as pyo\n",
    "import plotly.graph_objs as go\n",
    "\n",
    "#from __future__ import division"
   ]
  },
  {
   "cell_type": "code",
   "execution_count": 0,
   "metadata": {
    "colab": {},
    "colab_type": "code",
    "id": "kS0nB2xWrIs1"
   },
   "outputs": [],
   "source": [
    "# Cell Configuration for plotly over google colab\n",
    "# This method pre-populates the outputframe with the configuration that Plotly\n",
    "# expects and must be executed for every cell which is displaying a Plotly graph.\n",
    "def configure_plotly_browser_state():\n",
    "  import IPython\n",
    "  display(IPython.core.display.HTML('''\n",
    "        <script src=\"/static/components/requirejs/require.js\"></script>\n",
    "        <script>\n",
    "          requirejs.config({\n",
    "            paths: {\n",
    "              base: '/static/base',\n",
    "              plotly: 'https://cdn.plot.ly/plotly-1.5.1.min.js?noext',\n",
    "            },\n",
    "          });\n",
    "        </script>\n",
    "        '''))"
   ]
  },
  {
   "cell_type": "markdown",
   "metadata": {
    "colab_type": "text",
    "id": "yNfGxcz5oqUf"
   },
   "source": [
    "Before we code advanced plots with Plotly, let's plot some basic charts such as those which we created with pandas, but now using Plotly. \n",
    "\n",
    "# Basic Charts\n",
    "\n",
    "## 1 - Bar Chart\n",
    "\n",
    "Basically, the idea is to create an object of type *Bar* containing at least the values of x and y axis."
   ]
  },
  {
   "cell_type": "code",
   "execution_count": 0,
   "metadata": {
    "colab": {},
    "colab_type": "code",
    "id": "WEWLtk5hoqUg"
   },
   "outputs": [],
   "source": [
    "# basic functions to run on google colab\n",
    "configure_plotly_browser_state()\n",
    "pyo.init_notebook_mode(connected=False)\n",
    "\n",
    "bar = go.Bar(x = ['A','B','C','D','E'],y = np.random.randint(30,100,5))\n",
    "data = [bar]\n",
    "\n",
    "# Type of bar variable\n",
    "print(type(bar))\n",
    "\n",
    "# Plotting data\n",
    "pyo.iplot(data)"
   ]
  },
  {
   "cell_type": "markdown",
   "metadata": {
    "colab_type": "text",
    "id": "MopOj0vmoqUj"
   },
   "source": [
    "## 2 - Line Chart\n",
    "\n",
    "To creating a line chart, it's needed to use a *Scatter* object containing at least the values of x and y axis, as defined before in bar chart."
   ]
  },
  {
   "cell_type": "code",
   "execution_count": 0,
   "metadata": {
    "colab": {},
    "colab_type": "code",
    "id": "PQTK5Ra3oqUl"
   },
   "outputs": [],
   "source": [
    "# basic functions to run on google colab\n",
    "configure_plotly_browser_state()\n",
    "pyo.init_notebook_mode(connected=False)\n",
    "\n",
    "values = np.random.rand(2,10)\n",
    "\n",
    "# Create a trace\n",
    "trace = go.Scatter(\n",
    "    x = np.arange(0,100,10),\n",
    "    y = values[0]\n",
    ")\n",
    "\n",
    "data = [trace]\n",
    "\n",
    "pyo.iplot(data)"
   ]
  },
  {
   "cell_type": "markdown",
   "metadata": {
    "colab_type": "text",
    "id": "mXBgzHPpoqUn"
   },
   "source": [
    "## 3 - Area Chart\n",
    "\n",
    "The area chart uses same structure of line chart, but it requires to setup a value to property **fill** inside *Scatter* object. It's possible to use the following strings as values:  \"none\", \"tozeroy\", \"tozerox\", \"tonexty\", \"tonextx\", \"toself\" and \"tonext\". "
   ]
  },
  {
   "cell_type": "code",
   "execution_count": 0,
   "metadata": {
    "colab": {},
    "colab_type": "code",
    "id": "eB1lhxuNoqUo"
   },
   "outputs": [],
   "source": [
    "# basic functions to run on google colab\n",
    "configure_plotly_browser_state()\n",
    "pyo.init_notebook_mode(connected=False)\n",
    "\n",
    "trace1 = go.Scatter(\n",
    "    x = np.arange(0,100,10),\n",
    "    y = values[0],\n",
    "    fill = 'tozeroy'\n",
    ")\n",
    "\n",
    "data = [trace1]\n",
    "pyo.iplot(data)"
   ]
  },
  {
   "cell_type": "markdown",
   "metadata": {
    "colab_type": "text",
    "id": "H0Vmqc80oqUq"
   },
   "source": [
    "It's also possible to plot multiple areas, because each area is defined by a *Scatter* object, see the example bellow:"
   ]
  },
  {
   "cell_type": "code",
   "execution_count": 0,
   "metadata": {
    "colab": {},
    "colab_type": "code",
    "id": "2CEq1jl-oqUs"
   },
   "outputs": [],
   "source": [
    "# basic functions to run on google colab\n",
    "configure_plotly_browser_state()\n",
    "pyo.init_notebook_mode(connected=False)\n",
    "\n",
    "trace2 = go.Scatter(\n",
    "    x = np.arange(0,100,10),\n",
    "    y = values[1],\n",
    "    fill = 'tozeroy'\n",
    ")\n",
    "\n",
    "data = [trace1, trace2]\n",
    "pyo.iplot(data)"
   ]
  },
  {
   "cell_type": "markdown",
   "metadata": {
    "colab_type": "text",
    "id": "h3KUU1YooqUu"
   },
   "source": [
    "## 4 - Scatter chart\n",
    "\n",
    "The default **mode** property of a *Scatter* object is the value *lines*, but to create a simple scatter without these lines, it is necessary to change the **mode** value from *lines* to *markers*."
   ]
  },
  {
   "cell_type": "code",
   "execution_count": 0,
   "metadata": {
    "colab": {},
    "colab_type": "code",
    "id": "Y64Ct2UcoqUv"
   },
   "outputs": [],
   "source": [
    "# basic functions to run on google colab\n",
    "configure_plotly_browser_state()\n",
    "pyo.init_notebook_mode(connected=False)\n",
    "\n",
    "\n",
    "# Create a trace\n",
    "trace = go.Scatter(\n",
    "    x = np.random.randn(300),\n",
    "    y = np.random.randn(300),\n",
    "    mode = 'markers'\n",
    ")\n",
    "\n",
    "data = [trace]\n",
    "\n",
    "pyo.iplot(data)"
   ]
  },
  {
   "cell_type": "markdown",
   "metadata": {
    "colab_type": "text",
    "id": "Xs9Ma38aoqUy"
   },
   "source": [
    "# Advanced Charts"
   ]
  },
  {
   "cell_type": "code",
   "execution_count": 0,
   "metadata": {
    "colab": {},
    "colab_type": "code",
    "id": "UWpT1W9UoqUz"
   },
   "outputs": [],
   "source": [
    "# Reading dataset\n",
    "global_power = pd.read_csv('https://github.com/cs-ufrn/intro-python-data-science/raw/master/datasets/global_power_plant_database.csv')\n",
    "\n",
    "# Preview of dataset\n",
    "global_power.head()"
   ]
  },
  {
   "cell_type": "markdown",
   "metadata": {
    "colab_type": "text",
    "id": "O0ERvP8OoqU2"
   },
   "source": [
    "## 1 - Polar Chart: Top 5 producers"
   ]
  },
  {
   "cell_type": "code",
   "execution_count": 0,
   "metadata": {
    "colab": {},
    "colab_type": "code",
    "id": "rYKu_ZwYoqU2"
   },
   "outputs": [],
   "source": [
    "# basic functions to run on google colab\n",
    "configure_plotly_browser_state()\n",
    "pyo.init_notebook_mode(connected=False)\n",
    "\n",
    "# Filtering dataset by country and fuel\n",
    "countries_fuel = global_power[['country', 'fuel1', 'country_long']]\n",
    "\n",
    "# Getting the top 5 energy producer\n",
    "top_5 = countries_fuel.groupby('country').count().sort_values(by=['fuel1'], ascending=False).head(5).index.tolist()\n",
    "\n",
    "# Choosing energy sources\n",
    "energies = ['Hydro', 'Wind', 'Oil', 'Gas', 'Solar']\n",
    "data  = []\n",
    "\n",
    "index = 1\n",
    "for country in top_5:\n",
    "    c = countries_fuel.loc[countries_fuel['country'] == country].groupby('fuel1').count()\n",
    "    c = c.loc[energies]['country'].tolist()\n",
    "    data.append(\n",
    "        go.Scatterpolar(\n",
    "            r = c,\n",
    "            theta = energies,\n",
    "            fill = 'toself',\n",
    "            name = country,\n",
    "            subplot = \"polar\" + str(index)\n",
    "       )\n",
    "    )\n",
    "    index += 1\n",
    "\n",
    "layout = go.Layout(\n",
    "    title = 'Energy grid in the major countries',\n",
    "    polar1 = dict(\n",
    "        domain = dict(\n",
    "            x = [0, .2],\n",
    "            y = [0, .5]\n",
    "        ),\n",
    "        radialaxis = dict(\n",
    "            visible = True,\n",
    "            range = [0, 2000]\n",
    "        )\n",
    "    ),\n",
    "    polar2 = dict(\n",
    "        domain = dict(\n",
    "            x = [.2, .4],\n",
    "            y = [.5, 1]\n",
    "        ),\n",
    "        radialaxis = dict(\n",
    "            visible = True,\n",
    "            range = [0, 1000]\n",
    "        )\n",
    "    ),\n",
    "    polar3 = dict(\n",
    "        domain = dict(\n",
    "            x = [.4, .6],\n",
    "            y = [0, .5]\n",
    "        ),\n",
    "        radialaxis = dict(\n",
    "            visible = True,\n",
    "            range = [0, 1200]\n",
    "        )\n",
    "    ),\n",
    "    polar4 = dict(\n",
    "        domain = dict(\n",
    "            x = [.6, .8],\n",
    "            y = [.5, 1]\n",
    "        ),\n",
    "        radialaxis = dict(\n",
    "            visible = True,\n",
    "            range = [0, 800]\n",
    "        )\n",
    "    ),\n",
    "    polar5 = dict(\n",
    "        domain = dict(\n",
    "            x = [.8, 1],\n",
    "            y = [0, .5]\n",
    "        ),\n",
    "        radialaxis = dict(\n",
    "            visible = True,\n",
    "            range = [0, 800]\n",
    "        )\n",
    "    ),\n",
    ")\n",
    "\n",
    "fig = go.Figure(data=data, layout=layout)\n",
    "pyo.iplot(fig)"
   ]
  },
  {
   "cell_type": "code",
   "execution_count": 0,
   "metadata": {
    "colab": {},
    "colab_type": "code",
    "id": "744ZARB4oqU6"
   },
   "outputs": [],
   "source": [
    "# basic functions to run on google colab\n",
    "configure_plotly_browser_state()\n",
    "pyo.init_notebook_mode(connected=False)\n",
    "\n",
    "data_ = []\n",
    "\n",
    "index = 1\n",
    "for country in top_5:\n",
    "    c = countries_fuel.loc[countries_fuel['country'] == country].groupby('fuel1').count()\n",
    "    c = c.loc[energies]['country'].tolist()\n",
    "    data_.append(\n",
    "        go.Scatterpolar(\n",
    "            r = c,\n",
    "            theta = energies,\n",
    "            fill = 'toself',\n",
    "            name = country,\n",
    "            subplot = \"polar\"\n",
    "       )\n",
    "    )\n",
    "    index += 1\n",
    "\n",
    "layout_ = go.Layout(\n",
    "    title = 'Energy grid in the major countries',\n",
    "    polar = dict(\n",
    "        domain = dict(\n",
    "            x = [0, 1],\n",
    "            y = [0, 1]\n",
    "        ),\n",
    "        radialaxis = dict(\n",
    "            visible = True,\n",
    "            range = [0, 2000]\n",
    "        )\n",
    "    ),\n",
    ")\n",
    "\n",
    "fig = go.Figure(data=data_, layout=layout_)\n",
    "pyo.iplot(fig)"
   ]
  },
  {
   "cell_type": "markdown",
   "metadata": {
    "colab_type": "text",
    "id": "ilEmDjNqoqU_"
   },
   "source": [
    "## 2 - Map: Places of energy production in Brazil"
   ]
  },
  {
   "cell_type": "code",
   "execution_count": 0,
   "metadata": {
    "colab": {},
    "colab_type": "code",
    "id": "v2CTHR4WoqVA"
   },
   "outputs": [],
   "source": [
    "# Limiting the dataset to Brazil\n",
    "countries_fuel_pos = global_power.loc[global_power['country'] == 'BRA'][['fuel1', 'latitude', 'longitude', 'capacity_mw']]\n",
    "\n",
    "# Filtering by energies\n",
    "countries_fuel_pos = countries_fuel_pos[countries_fuel_pos.fuel1.isin(energies)]\n",
    "\n",
    "# Preview of data\n",
    "countries_fuel_pos.head()"
   ]
  },
  {
   "cell_type": "code",
   "execution_count": 0,
   "metadata": {
    "colab": {},
    "colab_type": "code",
    "id": "ka9F498foqVD"
   },
   "outputs": [],
   "source": [
    "# basic functions to run on google colab\n",
    "configure_plotly_browser_state()\n",
    "pyo.init_notebook_mode(connected=False)\n",
    "\n",
    "energies = ['Hydro', 'Wind', 'Oil', 'Gas', 'Solar']\n",
    "colors  = [\n",
    "            [[0,\"rgb(0,191,255)\"], [1,\"rgb(0,191,255)\"]], \n",
    "            [[0,\"rgb(173,255,47)\"], [1,\"rgb(173,255,47)\"]], \n",
    "            [[0,\"rgb(105,105,105)\"], [1,\"rgb(105,105,105)\"]], \n",
    "            [[0,\"rgb(255,69,0)\"], [1,\"rgb(255,69,0)\"]], \n",
    "            [[0,\"rgb(255,215,0)\"], [1,\"rgb(255,215,0)\"]],\n",
    "          ]\n",
    "markers = ['circle', 'square', 'diamond-tall-dot', 'hexagram', 'triangle-up']\n",
    "\n",
    "data_map = []\n",
    "index = 0\n",
    "for energy in energies:\n",
    "    c = countries_fuel_pos.loc[countries_fuel_pos['fuel1'] == energy]\n",
    "    data_map.append(\n",
    "        dict(\n",
    "            type = 'scattergeo',\n",
    "            locationmode = 'country names',\n",
    "            lon = c['longitude'],\n",
    "            lat = c['latitude'],\n",
    "            mode = 'markers',\n",
    "            name = energy,\n",
    "            marker = dict(\n",
    "                size = 8,\n",
    "                opacity = 1,\n",
    "                symbol = markers[index],\n",
    "                colorscale = colors[index],\n",
    "                cmin = 0,\n",
    "                color = countries_fuel_pos['capacity_mw'],\n",
    "                cmax = countries_fuel_pos['capacity_mw'].max(),\n",
    "                line = dict (\n",
    "                    color = 'rgb(0,0,0)',\n",
    "                    width = 1\n",
    "                )\n",
    "            )\n",
    "        )\n",
    "    )\n",
    "    index += 1\n",
    "\n",
    "layout_map = dict(\n",
    "        title = 'Sources of energy production<br>in Brazil',\n",
    "        width = 800,\n",
    "        height = 800,\n",
    "        geo = dict(\n",
    "            scope='south america',\n",
    "            projection=dict( type='mercator' ),\n",
    "            showland = True,\n",
    "            landcolor = \"rgb(250, 250, 250)\",\n",
    "            subunitcolor = \"rgb(217, 217, 217)\",\n",
    "            countrycolor = \"rgb(217, 217, 217)\",\n",
    "            countrywidth = 1,\n",
    "            subunitwidth = 1\n",
    "        ),\n",
    "    )\n",
    "\n",
    "fig = dict( data=data_map, layout=layout_map )\n",
    "pyo.iplot( fig )"
   ]
  },
  {
   "cell_type": "markdown",
   "metadata": {
    "colab_type": "text",
    "id": "_s75KG2BoqVF"
   },
   "source": [
    "## 3 - Funnel Chart: Oil production in Brazil in relation to the world"
   ]
  },
  {
   "cell_type": "code",
   "execution_count": 0,
   "metadata": {
    "colab": {},
    "colab_type": "code",
    "id": "jadS3ixcoqVG"
   },
   "outputs": [],
   "source": [
    "# Reading a new dataset of countries\n",
    "all_countries = pd.read_csv('https://raw.githubusercontent.com/cs-ufrn/intro-python-data-science/master/datasets/all_countries.csv')\n",
    "\n",
    "# Preview of new dataset\n",
    "all_countries.head()"
   ]
  },
  {
   "cell_type": "code",
   "execution_count": 0,
   "metadata": {
    "colab": {},
    "colab_type": "code",
    "id": "BzO_NHOroqVN"
   },
   "outputs": [],
   "source": [
    "# Filtering the dataset to limit only oil production\n",
    "global_oil = global_power.loc[global_power['fuel1'] == 'Oil'][['country']]\n",
    "\n",
    "# Number of places which produce oil in world\n",
    "global_oil_size = global_oil.size\n",
    "print(\"Global: \", global_oil_size)"
   ]
  },
  {
   "cell_type": "code",
   "execution_count": 0,
   "metadata": {
    "colab": {},
    "colab_type": "code",
    "id": "nQYcV4HioqVV"
   },
   "outputs": [],
   "source": [
    "# Filtering the dataset to limit only American countries\n",
    "american_countries      = all_countries.loc[all_countries['region'] == 'Americas']\n",
    "american_countries_code = american_countries['alpha-3'].unique().tolist()\n",
    "american_oil = global_oil[global_oil.country.isin(american_countries_code)]\n",
    "\n",
    "# Number of places which produce oil in america\n",
    "american_oil_size = american_oil.size\n",
    "print(\"America: \", american_oil_size)"
   ]
  },
  {
   "cell_type": "code",
   "execution_count": 0,
   "metadata": {
    "colab": {},
    "colab_type": "code",
    "id": "Jizgwe8OoqVX"
   },
   "outputs": [],
   "source": [
    "# Filtering the dataset to limit only South-American countries\n",
    "south_american_countries      = american_countries.loc[american_countries['intermediate-region'] == 'South America']\n",
    "south_american_countries_code = south_american_countries['alpha-3'].unique().tolist()\n",
    "south_american_oil = american_oil[american_oil.country.isin(south_american_countries_code)]\n",
    "\n",
    "# Number of places which produce oil in south-america\n",
    "south_american_oil_size = south_american_oil.size\n",
    "print(\"South-America: \", south_american_oil_size)"
   ]
  },
  {
   "cell_type": "code",
   "execution_count": 0,
   "metadata": {
    "colab": {},
    "colab_type": "code",
    "id": "rMW7jMxFoqVb"
   },
   "outputs": [],
   "source": [
    "# Filtering the dataset to limit only Brazil\n",
    "brazil_oil = south_american_oil.loc[south_american_oil['country'] == 'BRA']\n",
    "\n",
    "# Number of places which produce oil in brazil\n",
    "brazil_oil_size = brazil_oil.size\n",
    "print(\"Brazil: \", brazil_oil_size)"
   ]
  },
  {
   "cell_type": "markdown",
   "metadata": {
    "colab_type": "text",
    "id": "6xJ-7A4moqVe"
   },
   "source": [
    "<div class=\"alert alert-info\">\n",
    "<b>Creation of funnel Chart</b>\n",
    "</div>"
   ]
  },
  {
   "cell_type": "code",
   "execution_count": 0,
   "metadata": {
    "colab": {},
    "colab_type": "code",
    "id": "AYks1VdqoqVe"
   },
   "outputs": [],
   "source": [
    "# Chart data\n",
    "values = [global_oil_size, american_oil_size, south_american_oil_size, brazil_oil_size]\n",
    "phases  = ['World', 'America', 'S.America', 'Brazil']\n",
    "\n",
    "# color of each funnel section\n",
    "colors = ['rgb(32,155,160)', 'rgb(253,93,124)', 'rgb(28,119,139)', 'rgb(182,231,235)']"
   ]
  },
  {
   "cell_type": "code",
   "execution_count": 0,
   "metadata": {
    "colab": {},
    "colab_type": "code",
    "id": "F8WiLp0EoqVg"
   },
   "outputs": [],
   "source": [
    "n_phase = len(phases)\n",
    "plot_width = 400\n",
    "\n",
    "# height of a section and difference between sections \n",
    "section_h = 100\n",
    "section_d = 10\n",
    "\n",
    "# multiplication factor to calculate the width of other sections\n",
    "unit_width = plot_width / max(values)\n",
    "\n",
    "# width of each funnel section relative to the plot width\n",
    "phase_w = [int(value * unit_width) for value in values]\n",
    "\n",
    "# plot height based on the number of sections and the gap in between them\n",
    "height = section_h * n_phase + section_d * (n_phase + 1)"
   ]
  },
  {
   "cell_type": "code",
   "execution_count": 0,
   "metadata": {
    "colab": {},
    "colab_type": "code",
    "id": "yQWBqO9HoqVi"
   },
   "outputs": [],
   "source": [
    "# list containing all the plot shapes\n",
    "shapes = []\n",
    "\n",
    "# list containing the Y-axis location for each section's name and value text\n",
    "label_y = []\n",
    "\n",
    "for i in range(n_phase):\n",
    "    if (i == n_phase-1):\n",
    "        points = [phase_w[i] / 2, height, phase_w[i] / 2, height - section_h]\n",
    "    else:\n",
    "        points = [phase_w[i] / 2, height, phase_w[i+1] / 2, height - section_h]\n",
    "    \n",
    "    # SVG code to draw polygons\n",
    "    path = 'M {0} {1} L {2} {3} L -{2} {3} L -{0} {1} Z'.format(*points)\n",
    "\n",
    "    shape = {\n",
    "        'type': 'path',\n",
    "        'path': path,\n",
    "        'fillcolor': colors[i],\n",
    "        'line': {\n",
    "            'width': 1,\n",
    "            'color': colors[i]\n",
    "        }\n",
    "    }\n",
    "    shapes.append(shape)\n",
    "\n",
    "    # Y-axis location for this section's details (text)\n",
    "    label_y.append(height - (section_h / 2))\n",
    "\n",
    "    height = height - (section_h + section_d)"
   ]
  },
  {
   "cell_type": "code",
   "execution_count": 0,
   "metadata": {
    "colab": {},
    "colab_type": "code",
    "id": "qGg-3w4loqVk"
   },
   "outputs": [],
   "source": [
    "# basic functions to run on google colab\n",
    "configure_plotly_browser_state()\n",
    "pyo.init_notebook_mode(connected=False)\n",
    "\n",
    "# For phase names\n",
    "label_trace = go.Scatter(\n",
    "    x=[-350]*n_phase,\n",
    "    y=label_y,\n",
    "    mode='text',\n",
    "    text=phases,\n",
    "    textfont=dict(\n",
    "        color='rgb(200,200,200)',\n",
    "        size=15\n",
    "    )\n",
    ")\n",
    " \n",
    "# For phase values\n",
    "value_trace = go.Scatter(\n",
    "    x=[350]*n_phase,\n",
    "    y=label_y,\n",
    "    mode='text',\n",
    "    text=values,\n",
    "    textfont=dict(\n",
    "        color='rgb(200,200,200)',\n",
    "        size=15\n",
    "    )\n",
    ")\n",
    "\n",
    "data = [label_trace, value_trace]\n",
    " \n",
    "layout = go.Layout(\n",
    "    title=\"<b>Funnel Chart</b>\",\n",
    "    titlefont=dict(\n",
    "        size=20,\n",
    "        color='rgb(203,203,203)'\n",
    "    ),\n",
    "    shapes=shapes,\n",
    "    height=560,\n",
    "    width=900,\n",
    "    showlegend=False,\n",
    "    paper_bgcolor='rgba(44,58,71,1)',\n",
    "    plot_bgcolor='rgba(44,58,71,1)',\n",
    "    xaxis=dict(\n",
    "        showticklabels=False,\n",
    "        zeroline=False,\n",
    "    ),\n",
    "    yaxis=dict(\n",
    "        showticklabels=False,\n",
    "        zeroline=False\n",
    "    )\n",
    ")\n",
    " \n",
    "fig = go.Figure(data=data, layout=layout)\n",
    "pyo.iplot(fig)"
   ]
  },
  {
   "cell_type": "markdown",
   "metadata": {
    "colab_type": "text",
    "id": "f5F9YPq8oqVm"
   },
   "source": [
    "## 4 - Treemap: Top 12 countries with more energy productions"
   ]
  },
  {
   "cell_type": "code",
   "execution_count": 0,
   "metadata": {
    "colab": {},
    "colab_type": "code",
    "id": "k7oxXPJP09TO"
   },
   "outputs": [],
   "source": [
    "!pip install squarify"
   ]
  },
  {
   "cell_type": "code",
   "execution_count": 0,
   "metadata": {
    "colab": {},
    "colab_type": "code",
    "id": "QhOHay-moqVn"
   },
   "outputs": [],
   "source": [
    "import squarify\n",
    "\n",
    "# basic functions to run on google colab\n",
    "configure_plotly_browser_state()\n",
    "pyo.init_notebook_mode(connected=False)\n",
    "\n",
    "\n",
    "# Grouping the countries by number of production places\n",
    "countries_fuel_sorted = countries_fuel.groupby('country').count().sort_values(by=['fuel1'], ascending=False).head(12)\n",
    "\n",
    "x = 0.\n",
    "y = 0.\n",
    "width = 500.\n",
    "height = 500.\n",
    "\n",
    "values      = countries_fuel_sorted['fuel1'].tolist()\n",
    "values_names = countries_fuel_sorted.index.tolist()\n",
    "values_fullnames = countries_fuel[countries_fuel.country.isin(values_names)][['country','country_long']].drop_duplicates()\n",
    "\n",
    "normed = squarify.normalize_sizes(values, width, height)\n",
    "rects = squarify.squarify(normed, x, y, width, height)\n",
    "\n",
    "# Choose colors\n",
    "color_brewer = ['rgb(141,211,199)','rgb(255,255,179)','rgb(190,186,218)',\n",
    "                'rgb(251,128,114)','rgb(128,177,211)','rgb(253,180,98)',\n",
    "                'rgb(179,222,105)','rgb(252,205,229)','rgb(217,217,217)',\n",
    "                'rgb(188,128,189)','rgb(204,235,197)','rgb(255,237,111)']\n",
    "shapes = []\n",
    "annotations = []\n",
    "counter = 0\n",
    "\n",
    "index = 0\n",
    "for r in rects:\n",
    "    shapes.append( \n",
    "        dict(\n",
    "            type = 'rect', \n",
    "            x0 = r['x'], \n",
    "            y0 = r['y'], \n",
    "            x1 = r['x']+r['dx'], \n",
    "            y1 = r['y']+r['dy'],\n",
    "            line = dict( width = 2 ),\n",
    "            fillcolor = color_brewer[counter]\n",
    "        ) \n",
    "    )\n",
    "    \n",
    "    txt  = str(values_fullnames[values_fullnames['country'] == values_names[index]]['country_long'].tolist()[0])\n",
    "    txt += '<br>'\n",
    "    txt += 'Places : '\n",
    "    txt += str(values[index])\n",
    "    \n",
    "    annotations.append(\n",
    "        dict(\n",
    "            x = r['x']+(r['dx']/2),\n",
    "            y = r['y']+(r['dy']/2),\n",
    "            text = txt,\n",
    "            showarrow = False\n",
    "        )\n",
    "    )\n",
    "    index += 1\n",
    "    counter = counter + 1\n",
    "    if counter >= len(color_brewer):\n",
    "        counter = 0\n",
    "        \n",
    "layout = dict(\n",
    "    title=\"Top 12 countries with more energy productions\",\n",
    "    width=950,\n",
    "    height=600,\n",
    "    xaxis=dict(showgrid=False,zeroline=False,showticklabels=False),\n",
    "    yaxis=dict(showgrid=False,zeroline=False,showticklabels=False),\n",
    "    shapes=shapes,\n",
    "    annotations=annotations,\n",
    "    hovermode='closest'\n",
    ")\n",
    "\n",
    "figure = dict(data=[go.Scatter()], layout=layout)\n",
    "pyo.iplot(figure)"
   ]
  }
 ],
 "metadata": {
  "colab": {
   "collapsed_sections": [],
   "name": "AdvancedPlot.ipynb",
   "provenance": [],
   "version": "0.3.2"
  },
  "kernelspec": {
   "display_name": "Python 3",
   "language": "python",
   "name": "python3"
  },
  "language_info": {
   "codemirror_mode": {
    "name": "ipython",
    "version": 3
   },
   "file_extension": ".py",
   "mimetype": "text/x-python",
   "name": "python",
   "nbconvert_exporter": "python",
   "pygments_lexer": "ipython3",
   "version": "3.6.4"
  }
 },
 "nbformat": 4,
 "nbformat_minor": 1
}
