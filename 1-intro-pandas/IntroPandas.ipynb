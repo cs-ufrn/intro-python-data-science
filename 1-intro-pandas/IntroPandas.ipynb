{
 "cells": [
  {
   "cell_type": "markdown",
   "metadata": {
    "colab_type": "text",
    "id": "vZEVo5BD5lo1"
   },
   "source": [
    "# Pandas basics\n"
   ]
  },
  {
   "cell_type": "markdown",
   "metadata": {
    "colab_type": "text",
    "id": "oqCSEZjHK-0S"
   },
   "source": [
    "\n",
    "\n",
    "## Introduction\n",
    "\n",
    "Pandas is a library that unifies the most common workflows that data analysts and data scientists previously relied on many different libraries for. Pandas has quickly became an important tool in a data professional's toolbelt and is the most popular library for working with tabular data in Python. Tabular data is any data that can be represented as rows and columns. \n",
    "\n",
    "To represent tabular data, Pandas uses a custom data structure called a **DataFrame**. A DataFrame is a highly efficient, 2-dimensional data structure that provides a suite of methods and attributes to quickly explore, analyze, and visualize data. The DataFrame is similar to the NumPy 2D array but adds support for many features that help you work with tabular data.\n",
    "\n",
    "One of the biggest advantages that Pandas has over NumPy is the **ability to store mixed data types** in rows and columns. Many tabular datasets contain a range of data types and Pandas DataFrames handle mixed data types effortlessly while NumPy doesn't. Pandas DataFrames **can also handle missing values gracefully** using a custom object, **NaN**, to represent those values. A common complaint with NumPy is its lack of an object to represent missing values and people end up having to find and replace these values manually. In addition, pandas DataFrames contain axis labels for both rows and columns and enable you to refer to elements in the dataframe more intuitively. Since many tabular datasets contain column titles, this means that dataframes preserve the metadata from the file around the data.\n",
    "\n",
    "## Our case study\n",
    "\n",
    "In this part of the course, you'll learn the basics of pandas while exploring a dataset from the [the World Resources Institute and Google Earth Outreach.](https://github.com/WRI/global-power-plant-database). This dataset is a comprehensive, open source database of power plants around the world.Each column in the dataset shows a different attribute of the powerplant and each row describes a different powerplant.\n",
    "\n",
    "Here are some of the columns in the dataset:\n",
    "\n",
    "- **country** - 3 character country code.\n",
    "- **country_long** - longer form of the country designation.\n",
    "- **name** - name of the powerplant.\n",
    "- **gppd_idnr** - 10 or 12 character identifier for the power plant.\n",
    "- **capacity_mw** - electrical generating capacity in megawatts.\n",
    "- **latitude** - geolocation of power plant.\n",
    "- **longitude** - geolocation of power plant.\n",
    "- **fuel1** - energy source used in electricity generation.\n",
    "- **fuel2** - energy source used in electricity generation.\n",
    "- **fuel3** - energy source used in electricity generation.\n",
    "- **fuel4** - energy source used in electricity generation.\n",
    "- **comissioning_year** - year of plant operation\n",
    "- **owner** - majority shareholder of the power plant\n",
    "- **source** - entity reporting the data; could be an organization, report, or document\n",
    "- **ulr** - web document corresponding to the `source` field\n",
    "- **geolocation_source** - attribution for geolocation information\n",
    "- **year_of_capacity_data** - year the capacity information was reported\n",
    "- **generation_gwh_2013** - electricity generation in gigawatt-hours reported for the year 2013.\n",
    "- **generation_gwh_2014** - electricity generation in gigawatt-hours reported for the year 2014.\n",
    "- **generation_gwh_2015** - electricity generation in gigawatt-hours reported for the year 2015.\n",
    "- **generation_gwh_2016** - electricity generation in gigawatt-hours reported for the year 2016.\n",
    "- **estimated_generation_gwh** - estimated annual electricity generation in gigawatt-hours for the year 2014\n"
   ]
  },
  {
   "cell_type": "markdown",
   "metadata": {
    "colab_type": "text",
    "id": "dtD77ne85lo2"
   },
   "source": [
    "## First steps with pandas\n",
    "\n",
    "### Importing the library\n",
    "\n",
    "First of all, we need to import the **pandas** library into the environment. For that,\n",
    "we rely on the Python's keywords *import* and *as*:\n"
   ]
  },
  {
   "cell_type": "code",
   "execution_count": null,
   "metadata": {
    "colab": {},
    "colab_type": "code",
    "id": "ISIKP1on5lo3"
   },
   "outputs": [],
   "source": [
    "import pandas as pd"
   ]
  },
  {
   "cell_type": "markdown",
   "metadata": {
    "colab_type": "text",
    "id": "_Wp2VWos5lo7"
   },
   "source": [
    "Now, we can refer to the library using the *pd* alias, calling any available function using\n",
    "the dot notation: *pd.some_method()*."
   ]
  },
  {
   "cell_type": "markdown",
   "metadata": {
    "colab_type": "text",
    "id": "mnylBrFz5lo7"
   },
   "source": [
    "### Loading data from a CSV file\n",
    "\n",
    "Tabular data is commonly provided in a CSV file. In simple words, it contains table rows whose\n",
    "cells are separated by some token, like a comma or semicolon. Pandas provides the [read_csv()](http://pandas.pydata.org/pandas-docs/stable/generated/pandas.read_csv.html) function, which takes the path of the CSV file and produces a DataFrame representation of its data:"
   ]
  },
  {
   "cell_type": "code",
   "execution_count": null,
   "metadata": {
    "colab": {},
    "colab_type": "code",
    "id": "m9zuW4045lo9"
   },
   "outputs": [],
   "source": [
    "data = pd.read_csv(\"https://github.com/cs-ufrn/intro-python-data-science/raw/master/datasets/global_power_plant_database.csv\")"
   ]
  },
  {
   "cell_type": "markdown",
   "metadata": {
    "colab_type": "text",
    "id": "3PfM02Tc5lo-"
   },
   "source": [
    "Now, *data* is a DataFrame containing the data provided by the CSV file."
   ]
  },
  {
   "cell_type": "markdown",
   "metadata": {
    "colab_type": "text",
    "id": "iK2b88jj5lpA"
   },
   "source": [
    "### Exploring the dataframe\n",
    "\n",
    "Now that we've read the dataset into a DataFrame, we can start using the DataFrame methods to explore the data. To select the first 5 rows of a DataFrame, use the method [head()](http://pandas.pydata.org/pandas-docs/version/0.17.1/generated/pandas.DataFrame.head.html). When you call it, pandas will return a new DataFrame containing just the first 5 rows:"
   ]
  },
  {
   "cell_type": "code",
   "execution_count": null,
   "metadata": {
    "colab": {},
    "colab_type": "code",
    "id": "HRKbFb4E5lpA"
   },
   "outputs": [],
   "source": [
    "first_rows = data.head()\n",
    "first_rows"
   ]
  },
  {
   "cell_type": "markdown",
   "metadata": {
    "colab_type": "text",
    "id": "Hz7P_9yJ5lpC"
   },
   "source": [
    "If you peek at the [documentation](http://pandas.pydata.org/pandas-docs/version/0.17.1/generated/pandas.DataFrame.head.html), you'll notice that you can pass in an integer (**n**) into the **head()** method to display the first **n** rows instead of the first 5:\n",
    "\n",
    "```python\n",
    "print(data.head(3))\n",
    "```\n",
    "\n",
    "Because this dataframe contains many columns and rows, pandas uses ellipsis (**...**) to hide the columns and rows in the middle. Only the first few and the last few columns and rows are displayed to conserve space.\n",
    "\n",
    "To access the full list of column names, use the **columns** attribute:"
   ]
  },
  {
   "cell_type": "code",
   "execution_count": null,
   "metadata": {
    "colab": {},
    "colab_type": "code",
    "id": "hCqlVDNM5lpD"
   },
   "outputs": [],
   "source": [
    "column_names = data.columns\n",
    "column_names"
   ]
  },
  {
   "cell_type": "markdown",
   "metadata": {
    "colab_type": "text",
    "id": "RDM1kR0g5lpG"
   },
   "source": [
    "Finally, you can use the <span style=\"background-color: #F9EBEA; color:##C0392B\">shape</span> attribute to understand the dimensions of the DataFrame. The <span style=\"background-color: #F9EBEA; color:##C0392B\">shape</span> attribute returns a tuple of integers representing the number of rows followed by the number of columns:"
   ]
  },
  {
   "cell_type": "code",
   "execution_count": null,
   "metadata": {
    "colab": {},
    "colab_type": "code",
    "id": "-AOvYZZH5lpH"
   },
   "outputs": [],
   "source": [
    "# Returns the tuple (8618,36) and assigns to `dimensions`.\n",
    "dimensions = data.shape\n",
    "# The number of rows, 8618.\n",
    "num_rows = dimensions[0]\n",
    "# The number of columns, 36.\n",
    "num_cols = dimensions[1]\n",
    "# Check the print\n",
    "dimensions"
   ]
  },
  {
   "cell_type": "code",
   "execution_count": null,
   "metadata": {
    "colab": {},
    "colab_type": "code",
    "id": "LoprDQMH5Uvi"
   },
   "outputs": [],
   "source": [
    "# show the basic information about the dataset (size, type, etc)\n",
    "data.info()"
   ]
  },
  {
   "cell_type": "code",
   "execution_count": null,
   "metadata": {
    "colab": {},
    "colab_type": "code",
    "id": "AsLBLpv55dN1"
   },
   "outputs": [],
   "source": [
    "# describe statistical information about the numerical columns\n",
    "data.describe()"
   ]
  },
  {
   "cell_type": "markdown",
   "metadata": {
    "colab_type": "text",
    "id": "yhgSvYkq5lpJ"
   },
   "source": [
    "## Basic concepts and operations in pandas\n",
    "\n",
    "### Indexing\n",
    "\n",
    "When you read in a file into a DataFrame, pandas uses the values in the first row (also known as the header) for the column labels and the row number for the row labels. Collectively, the labels are referred to as the **index**. DataFrames contain both a row index and a column index. Here's a diagram that displays some of the column and row labels for **data**:\n",
    "\n",
    "\n",
    "<img width=\"500\" src=\"https://drive.google.com/uc?export=view&id=1lmhEVgA66p1G-tZw3L6QEknlHvprfup7\">\n",
    "\n",
    "The labels allow us to refer to values in the DataFrame, which we'll learn more about in the rest of this notebook.\n",
    "\n",
    "### Series\n",
    "\n",
    "The **Series** object is a core data structure that pandas uses to represent rows and columns. A Series is a labelled collection of values similar to the NumPy vector. The main advantage of Series objects is the **ability to utilize non-integer labels**. NumPy arrays can only utilize integer labels for indexing.\n",
    "\n",
    "Pandas utilizes this feature to provide more context when returning a row or a column from a DataFrame. For example, when you select a row from a DataFrame, instead of just returning the values in that row as a list, pandas returns a Series object that contains the column labels as well as the corresponding values:\n",
    "\n",
    "<!-- <img width=\"500\" alt=\"creating a repo\" src=\"https://drive.google.com/uc?export=view&id=0BxhVm1REqwr0aUZ5c0FrQ0VNWFU\"> -->\n",
    "\n",
    "The Series object representing the first row looks like:\n",
    "\n",
    "<!--<img width=\"300\" alt=\"creating a repo\" src=\"https://drive.google.com/uc?export=view&id=0BxhVm1REqwr0Slg5TDdXNUt6V2M\"> -->"
   ]
  },
  {
   "cell_type": "markdown",
   "metadata": {
    "colab_type": "text",
    "id": "DvQHu9wi5lpK"
   },
   "source": [
    "### Selecting a row\n",
    "\n",
    "While we use bracket notation to access elements in a NumPy array or a standard list, we need to use the pandas method [loc[]](http://pandas.pydata.org/pandas-docs/stable/indexing.html#indexing-label) to select rows in a DataFrame. The <span style=\"background-color: #F9EBEA; color:##C0392B\">loc[]</span> method allows you to select rows by row labels. Recall that when you read a file into a dataframe, pandas uses the row number (or position) as each row's label. Pandas uses zero-indexing, so the first row is at index 0, the second row at index 1, and so on.\n",
    "\n",
    "If you're interested in accessing a single row, pass in the row label to the <span style=\"background-color: #F9EBEA; color:##C0392B\">loc[]</span> method. Also, Python will return an error if you don't pass in a valid row label. For example, the following line takes the seventh row:"
   ]
  },
  {
   "cell_type": "code",
   "execution_count": null,
   "metadata": {
    "colab": {},
    "colab_type": "code",
    "id": "1s_eYmIr5lpK"
   },
   "outputs": [],
   "source": [
    "# Series object representing the seventh row.\n",
    "data.loc[6]"
   ]
  },
  {
   "cell_type": "markdown",
   "metadata": {
    "colab_type": "text",
    "id": "X1EtBhGS5lpM"
   },
   "source": [
    "When accessing an individual row, pandas returns a Series object containing the column names and that row's value for each column.\n",
    "\n",
    "### Data types\n",
    "\n",
    "When you displayed individual rows, represented as Series objects, you may have noticed the text <span style=\"background-color: #F9EBEA; color:##C0392B\">\"dtype: object\"</span> after the last value. <span style=\"background-color: #F9EBEA; color:##C0392B\">\"dtype: object\"</span> refers to the data type, or **dtype**, of that Series. The object dtype is equivalent to the string type in Python. Pandas borrows from the NumPy type system and contains the following dtypes:\n",
    "\n",
    "- <span style=\"background-color: #F9EBEA; color:##C0392B\">\"object\"</span> - for representing string values.\n",
    "- <span style=\"background-color: #F9EBEA; color:##C0392B\">\"int\"</span> - for representing integer values.\n",
    "- <span style=\"background-color: #F9EBEA; color:##C0392B\">\"float\"</span> - for representing float values.\n",
    "- <span style=\"background-color: #F9EBEA; color:##C0392B\">\"datatime\"</span> - for representing time values.\n",
    "- <span style=\"background-color: #F9EBEA; color:##C0392B\">\"bool\"</span> - for representing Boolean values.\n",
    "\n",
    "When reading a file into a DataFrame, pandas analyzes the values and infers each column's types. To access the types - for each column, use the <span style=\"background-color: #F9EBEA; color:##C0392B\">DataFrame.dtypes</span> attribute to return a Series containing each column name and its corresponding type. Read more about data types on the [Pandas documentation](http://pandas.pydata.org/pandas-docs/stable/basics.html#dtypes).\n",
    "\n",
    "Sometimes we can encounter the value - <span style=\"background-color: #F9EBEA; color:##C0392B\">\"NaN\"</span> - for representing Not a Number, in other words is value that pandas dosen't know how to represent, normally it's associated with missing values."
   ]
  },
  {
   "cell_type": "code",
   "execution_count": null,
   "metadata": {
    "colab": {},
    "colab_type": "code",
    "id": "WV7ibb0f5lpN"
   },
   "outputs": [],
   "source": [
    "data.dtypes"
   ]
  },
  {
   "cell_type": "markdown",
   "metadata": {
    "colab_type": "text",
    "id": "IJtNIPSq5lpQ"
   },
   "source": [
    "### Selecting Multiple Rows\n",
    "\n",
    "If you're interested in accessing multiple rows of the DataFrame, you can pass in either a slice of row labels or a list of row labels, and pandas will return a DataFrame. Note that unlike slicing lists in Python, a slice of a DataFrame using <span style=\"background-color: #F9EBEA; color:##C0392B\">.loc[]</span> will include both the start and the end row:"
   ]
  },
  {
   "cell_type": "code",
   "execution_count": null,
   "metadata": {
    "colab": {},
    "colab_type": "code",
    "id": "zau2OBX15lpQ"
   },
   "outputs": [],
   "source": [
    "# DataFrame containing the rows at index 3, 4, 5, and 6 returned.\n",
    "data.loc[3:6]"
   ]
  },
  {
   "cell_type": "code",
   "execution_count": null,
   "metadata": {
    "colab": {},
    "colab_type": "code",
    "id": "jkBMqmkH5lpW"
   },
   "outputs": [],
   "source": [
    "# DataFrame containing the rows at index 2, 5, and 10 returned\n",
    "data.loc[[2,5,10]]"
   ]
  },
  {
   "cell_type": "markdown",
   "metadata": {
    "colab_type": "text",
    "id": "WeXRptBK5lpa"
   },
   "source": [
    "**Exercise**\n",
    "\n",
    "<img width=\"100\" src=\"https://drive.google.com/uc?export=view&id=1E8tR7B9YYUXsU_rddJAyq0FrM0MSelxZ\">\n",
    "\n",
    "1. Select the last 5 rows of **fuel1** and assign to the variable **last_rows**. #tips: use **.iloc[]** method. "
   ]
  },
  {
   "cell_type": "code",
   "execution_count": null,
   "metadata": {
    "colab": {},
    "colab_type": "code",
    "id": "MKWYaWi_1by9"
   },
   "outputs": [],
   "source": [
    "# put your code here"
   ]
  },
  {
   "cell_type": "markdown",
   "metadata": {
    "colab_type": "text",
    "id": "a9TVhZfu5lpa"
   },
   "source": [
    "### Selecting Individual Columns\n",
    "\n",
    "When accessing a column in a DataFrame, pandas returns a Series object containing the row label and each row's value for that column. To access a single column, use bracket notation and pass in the column name as a string:"
   ]
  },
  {
   "cell_type": "code",
   "execution_count": null,
   "metadata": {
    "colab": {},
    "colab_type": "code",
    "id": "-7UWankz5lpa"
   },
   "outputs": [],
   "source": [
    "# Series object representing the \"country_long\" column.\n",
    "data[\"country_long\"]"
   ]
  },
  {
   "cell_type": "markdown",
   "metadata": {
    "colab_type": "text",
    "id": "4LHbh7kF5lpd"
   },
   "source": [
    "**Exercise**\n",
    "\n",
    "<img width=\"100\" src=\"https://drive.google.com/uc?export=view&id=1E8tR7B9YYUXsU_rddJAyq0FrM0MSelxZ\">\n",
    "\n",
    "\n",
    "1. Assign the **\"country_long\"** column to the variable **country_name**.\n",
    "2. Assign the **capacity_mw** column to the variable **capacity**."
   ]
  },
  {
   "cell_type": "code",
   "execution_count": null,
   "metadata": {
    "colab": {},
    "colab_type": "code",
    "id": "5xmv4QN815zr"
   },
   "outputs": [],
   "source": [
    "# put your code here"
   ]
  },
  {
   "cell_type": "markdown",
   "metadata": {
    "colab_type": "text",
    "id": "msHqIRzI5lpe"
   },
   "source": [
    "### Selecting Multiple Columns By Name\n",
    "\n",
    "To select multiple columns, pass in a list of strings representing the column names and pandas will return a dataframe containing only the values in those columns. The following code returns a dataframe containing the <span style=\"background-color: #F9EBEA; color:##C0392B\">\"country\"</span> and <span style=\"background-color: #F9EBEA; color:##C0392B\">\"fuel1\"</span> columns, in that order:"
   ]
  },
  {
   "cell_type": "code",
   "execution_count": null,
   "metadata": {
    "colab": {},
    "colab_type": "code",
    "id": "out-RsV05lpe"
   },
   "outputs": [],
   "source": [
    "data[[\"country\", \"fuel1\"]]"
   ]
  },
  {
   "cell_type": "markdown",
   "metadata": {
    "colab_type": "text",
    "id": "ET5zbOef5lpg"
   },
   "source": [
    "When selecting multiple columns, the order of the columns in the returned DataFrame matches the order of the column names in the list of strings that you passed in. This allows you to easily explore specific columns that may not be positioned next to each other in the DataFrame."
   ]
  },
  {
   "cell_type": "markdown",
   "metadata": {
    "colab_type": "text",
    "id": "MMF7Q5xB5lph"
   },
   "source": [
    "**Exercise**\n",
    "\n",
    "<img width=\"100\" src=\"https://drive.google.com/uc?export=view&id=1E8tR7B9YYUXsU_rddJAyq0FrM0MSelxZ\">\n",
    "\n",
    "\n",
    "1. Select and display only the attributes **country_long**, **fuel1**  and **fuel2** of brazillian Power Plants. Tip: use **data.country_long.unique()** to see the name of countries. "
   ]
  },
  {
   "cell_type": "code",
   "execution_count": null,
   "metadata": {
    "colab": {},
    "colab_type": "code",
    "id": "nJZRHzw12rqr"
   },
   "outputs": [],
   "source": [
    "# put your code here"
   ]
  },
  {
   "cell_type": "markdown",
   "metadata": {
    "colab_type": "text",
    "id": "HQuKx-rc5lpi"
   },
   "source": [
    "## Data manipulation with Pandas\n",
    "\n",
    "### Overview\n",
    "\n",
    "In the previous sections, we learned how to explore a pandas <span style=\"background-color: #F9EBEA; color:##C0392B\">DataFrame</span>. In this mission, we'll explore how to manipulate a DataFrame and make transformations to it. We'll continue to work with the same data set from the Power Plants information. We'll build a better dataset cleaning the data and removing not useful information. We also gonna learn how to group up informatio and manipulate data."
   ]
  },
  {
   "cell_type": "markdown",
   "metadata": {
    "colab_type": "text",
    "id": "AEXTw9QQ5lpj"
   },
   "source": [
    "## Dropping Columns\n",
    "\n",
    "Sometimes the datasets have more information than needed, for the rest of this course we not gonna need the following columns: <span style=\"background-color: #F9EBEA; color:##C0392B\">source</span>, <span style=\"background-color: #F9EBEA; color:##C0392B\">url</span>, <span style=\"background-color: #F9EBEA; color:##C0392B\">geolocation_source</span> and <span style=\"background-color: #F9EBEA; color:##C0392B\">year_of_capacity_data</span> "
   ]
  },
  {
   "cell_type": "code",
   "execution_count": null,
   "metadata": {
    "colab": {},
    "colab_type": "code",
    "id": "8dWB8Me_5lpj"
   },
   "outputs": [],
   "source": [
    "data = data.drop(['source', 'url', 'geolocation_source', 'year_of_capacity_data'], axis=1)\n",
    "data.shape"
   ]
  },
  {
   "cell_type": "markdown",
   "metadata": {
    "colab_type": "text",
    "id": "gKegZwxV5lpm"
   },
   "source": [
    "**Exercise**\n",
    "\n",
    "<img width=\"100\" src=\"https://drive.google.com/uc?export=view&id=1E8tR7B9YYUXsU_rddJAyq0FrM0MSelxZ\">\n",
    "\n",
    "\n",
    "Practice what we learned in the previous sections:\n",
    "\n",
    ">1. Import the **pandas**\n",
    "2. Read **global_power_plant_database.csv** into a DataFrame object named **powerplant_info**.\n",
    "3. Use the **DataFrame.columns** attribute, followed by the **Index.tolist()** method, to return a list containing only the column names.\n",
    "4. Assign the resulting list to **col_names**, and use the **print()** function to display the value.\n",
    "5. Display the first three rows of **powerplant_info.csv**.\n",
    "6. Drop the columns **source**, **url**, **geolocation_source** and **year_of_capacity_data**"
   ]
  },
  {
   "cell_type": "code",
   "execution_count": null,
   "metadata": {
    "colab": {},
    "colab_type": "code",
    "id": "EXZP4t_F42-h"
   },
   "outputs": [],
   "source": [
    "# put your code here"
   ]
  },
  {
   "cell_type": "markdown",
   "metadata": {
    "colab_type": "text",
    "id": "hNRYcDjb5lpm"
   },
   "source": [
    "### Transforming a column\n",
    "\n",
    "We can use the arithmetic operators to transform a numerical column. The values in the **\"estimated_generation_gwh\"** column, for example, are currently in gigaWatt/hour. We can multiply each value by **1000** to convert the values to megaWatt/hour. The following code will multiply each value in the **\"estimated_generation_gwh\"** column by **1000**, and return a new Series object with those values:"
   ]
  },
  {
   "cell_type": "markdown",
   "metadata": {
    "colab_type": "text",
    "id": "Djrn3MLy5lpn"
   },
   "source": [
    "Pandas allows us to use any of the arithmetic operators to scale the values in a numerical column:"
   ]
  },
  {
   "cell_type": "code",
   "execution_count": null,
   "metadata": {
    "colab": {},
    "colab_type": "code",
    "id": "lbppIPzJ5lpo"
   },
   "outputs": [],
   "source": [
    "estimated_generation_mwh = data[\"estimated_generation_gwh\"] * 1000\n",
    "estimated_generation_mwh"
   ]
  },
  {
   "cell_type": "markdown",
   "metadata": {
    "colab_type": "text",
    "id": "VnySi0yC5lpr"
   },
   "source": [
    "## Dealing with NaN\n",
    "\n",
    "Sometimes we have to fill the NaN with another value to make some operations with the values of a certain type or we need to know if there are sufficient data to work with. A good place to start is using missingno library to visualize how is your data."
   ]
  },
  {
   "cell_type": "code",
   "execution_count": null,
   "metadata": {
    "colab": {},
    "colab_type": "code",
    "id": "o2TAarG058lM"
   },
   "outputs": [],
   "source": [
    "# missingno is not native, you need install it\n",
    "!pip install missingno"
   ]
  },
  {
   "cell_type": "code",
   "execution_count": null,
   "metadata": {
    "colab": {},
    "colab_type": "code",
    "id": "48otq1Tf5lpw"
   },
   "outputs": [],
   "source": [
    "import missingno as msno\n",
    "\n",
    "%matplotlib inline\n",
    "msno.matrix(data,figsize=(10,5),sparkline=False)"
   ]
  },
  {
   "cell_type": "markdown",
   "metadata": {
    "colab_type": "text",
    "id": "FVifuMe05lpz"
   },
   "source": [
    " Selecting the 3th energy source column using the method **fillna()** to change the **NaN** values to **none**:"
   ]
  },
  {
   "cell_type": "code",
   "execution_count": null,
   "metadata": {
    "colab": {},
    "colab_type": "code",
    "id": "UqqfVmWa5lpz"
   },
   "outputs": [],
   "source": [
    "data[\"fuel3\"].fillna(\"None\", inplace=True)\n",
    "msno.matrix(data,figsize=(10,5),sparkline=False)"
   ]
  },
  {
   "cell_type": "markdown",
   "metadata": {
    "colab_type": "text",
    "id": "3nfn0CnZ5lp1"
   },
   "source": [
    "We can also deall with all the **NaN** in multiple columns using a dictionary to create a different rule for some of them."
   ]
  },
  {
   "cell_type": "code",
   "execution_count": null,
   "metadata": {
    "colab": {},
    "colab_type": "code",
    "id": "kl-BeZbu5lp2"
   },
   "outputs": [],
   "source": [
    "values = {'country': \"None\", \"fuel2\": \"None\", \"fuel4\": \"None\", 'capacity_mw':0 }\n",
    "data = data.fillna(value=values)\n",
    "msno.matrix(data,figsize=(10,5),sparkline=False)"
   ]
  },
  {
   "cell_type": "markdown",
   "metadata": {
    "colab_type": "text",
    "id": "OuKF-y_H5lp4"
   },
   "source": [
    "**Exercise**\n",
    "\n",
    "<img width=\"100\" src=\"https://drive.google.com/uc?export=view&id=1E8tR7B9YYUXsU_rddJAyq0FrM0MSelxZ\">\n",
    "\n",
    "Practice what we learned in the previous sections:\n",
    "\n",
    "1. Using the variable **powerplant_info** remove all **NaN** from the column **estimated_generation_gwh** transforming into **0**."
   ]
  },
  {
   "cell_type": "code",
   "execution_count": null,
   "metadata": {
    "colab": {},
    "colab_type": "code",
    "id": "O-FqaIuu83Mh"
   },
   "outputs": [],
   "source": [
    "# put your code here"
   ]
  },
  {
   "cell_type": "markdown",
   "metadata": {
    "colab_type": "text",
    "id": "v073AMbB5lp5"
   },
   "source": [
    "### Normalize columns in a dataset\n",
    "\n",
    "The columns in the data set use different units. As a result, the range of values varies greatly between columns. For example, the **capacity_mw** column is in mega Watt, while the **\"estimated_generation_gwh\"** column ranges  is in giga Watt.\n",
    "\n",
    "While there are many ways to normalize data, one of the simplest ways is to divide all of the values in a column by that column's maximum value. This way, all of the columns will range from 0 to 1. To calculate the maximum value of a column, we use the **Series.max()** method. In the following code, we use the **Series.max()** method to calculate the largest value in the **\"capacity_mw\"** column, and assign it to **max_capacity**:"
   ]
  },
  {
   "cell_type": "code",
   "execution_count": null,
   "metadata": {
    "colab": {},
    "colab_type": "code",
    "id": "vkpEYxSS5lp5"
   },
   "outputs": [],
   "source": [
    "# The largest value in the \"Energ_Kcal\" column.\n",
    "max_capacity = data[\"capacity_mw\"].max()"
   ]
  },
  {
   "cell_type": "markdown",
   "metadata": {
    "colab_type": "text",
    "id": "6LRkkw3u5lp8"
   },
   "source": [
    "We can then use the division operator (**/**) to divide the values in the **\"capacity\\_mw\"** column by the maximum value, **max\\_capacity**:"
   ]
  },
  {
   "cell_type": "code",
   "execution_count": null,
   "metadata": {
    "colab": {},
    "colab_type": "code",
    "id": "YTldTtQ15lp9"
   },
   "outputs": [],
   "source": [
    "# Divide the values in \"capacity_mw\" by the largest value.\n",
    "normalized_capacity = data[\"capacity_mw\"] / max_capacity"
   ]
  },
  {
   "cell_type": "markdown",
   "metadata": {
    "colab_type": "text",
    "id": "AyRwWjT95lp_"
   },
   "source": [
    "**Exercise**\n",
    "\n",
    "<img width=\"100\" src=\"https://drive.google.com/uc?export=view&id=1E8tR7B9YYUXsU_rddJAyq0FrM0MSelxZ\">\n",
    "\n",
    "\n",
    "1. Normalize the values in the **\"estimated_generation_gwh\"** column, and assign the result to **normalized_generation**."
   ]
  },
  {
   "cell_type": "code",
   "execution_count": null,
   "metadata": {
    "colab": {},
    "colab_type": "code",
    "id": "jCFFFE1Y99v0"
   },
   "outputs": [],
   "source": [
    "# put your code here"
   ]
  },
  {
   "cell_type": "markdown",
   "metadata": {
    "colab_type": "text",
    "id": "v2XVZTx65lqA"
   },
   "source": [
    "### Creating a new column\n",
    "\n",
    "So far, we've assigned the Series object that results from a column transform to a variable. However, we can add it to the DataFrame as a new column instead.\n",
    "\n",
    "We add bracket notation to specify the name we want for that column, then use the assignment operator (<span style=\"background-color: #F9EBEA; color:##C0392B\">=</span>) to specify the Series object containing the values we want to assign to that column:"
   ]
  },
  {
   "cell_type": "code",
   "execution_count": null,
   "metadata": {
    "colab": {},
    "colab_type": "code",
    "id": "Pr6Z663f5lqB"
   },
   "outputs": [],
   "source": [
    "data[\"normalized_capacity\"] = normalized_capacity"
   ]
  },
  {
   "cell_type": "markdown",
   "metadata": {
    "colab_type": "text",
    "id": "477DKrfp5lqF"
   },
   "source": [
    "In the DataFrame **powerplant\\_info**\n",
    "\n",
    "**Exercise**\n",
    "\n",
    "<img width=\"100\" src=\"https://drive.google.com/uc?export=view&id=1E8tR7B9YYUXsU_rddJAyq0FrM0MSelxZ\">\n",
    "\n",
    "\n",
    "1. Assign the **\"normalized\\_generation\"** column to a new column named **\"Normalized\\_Generation\"**."
   ]
  },
  {
   "cell_type": "code",
   "execution_count": null,
   "metadata": {
    "colab": {},
    "colab_type": "code",
    "id": "73UHfxMAx74e"
   },
   "outputs": [],
   "source": [
    "# put your code here"
   ]
  },
  {
   "cell_type": "markdown",
   "metadata": {
    "colab_type": "text",
    "id": "dzn4r_885lqH"
   },
   "source": [
    "### Sorting a dataframe by a column\n",
    "\n",
    "The DataFrame currently appears in numerical order according to the country column. country is initials of country name. To explore which power plant rank the highest in the estimated generation in the **estimated_generation_gwh** column, we need to sort the DataFrame by that column. DataFrame objects have a **sort_values()** method that we can use to sort the entire DataFrame.\n",
    "\n",
    "To sort the DataFrame on the **capacity_mw** column, pass in the column name to the **DataFrame.sort_values()** method, and assign the resulting DataFrame to a new variable:"
   ]
  },
  {
   "cell_type": "code",
   "execution_count": null,
   "metadata": {
    "colab": {},
    "colab_type": "code",
    "id": "F8sB1SaI5lqH"
   },
   "outputs": [],
   "source": [
    "data.sort_values(\"capacity_mw\")"
   ]
  },
  {
   "cell_type": "markdown",
   "metadata": {
    "colab_type": "text",
    "id": "VMEhnvU_5lqM"
   },
   "source": [
    "By default, pandas will sort the data by the column we specify in ascending order and return a new DataFrame, rather than modifying <span style=\"background-color: #F9EBEA; color:##C0392B\">estimated_generation_gwh</span> itself. To customize the method's behavior, use the parameters listed in the [documentation](http://pandas.pydata.org/pandas-docs/stable/generated/pandas.DataFrame.sort_values.html):"
   ]
  },
  {
   "cell_type": "code",
   "execution_count": null,
   "metadata": {
    "colab": {},
    "colab_type": "code",
    "id": "mbenz5Qs5lqN"
   },
   "outputs": [],
   "source": [
    "# Sorts the DataFrame in-place, rather than returning a new DataFrame.\n",
    "data.sort_values(\"estimated_generation_gwh\", inplace=True)\n",
    "# Sorts by descending order, rather than ascending.\n",
    "data.sort_values(\"estimated_generation_gwh\", inplace=True, ascending=False)\n",
    "data"
   ]
  },
  {
   "cell_type": "markdown",
   "metadata": {
    "colab_type": "text",
    "id": "XxYKeJKv5lqP"
   },
   "source": [
    "**Exercise**\n",
    "\n",
    "<img width=\"100\" src=\"https://drive.google.com/uc?export=view&id=1E8tR7B9YYUXsU_rddJAyq0FrM0MSelxZ\">\n",
    "\n",
    "\n",
    "1. Sort the **powerplant_info** DataFrame in-place on the **capacity_mw** column in descending order."
   ]
  },
  {
   "cell_type": "code",
   "execution_count": null,
   "metadata": {
    "colab": {},
    "colab_type": "code",
    "id": "1cZ-ClQcx-n8"
   },
   "outputs": [],
   "source": [
    "# put your code here"
   ]
  },
  {
   "cell_type": "markdown",
   "metadata": {
    "colab_type": "text",
    "id": "pSPGpJCD5lqQ"
   },
   "source": [
    "### Grouping information \n",
    "\n",
    "Sometimes we need to group information, to do this we can use the function <span style=\"background-color: #F9EBEA; color:##C0392B\">groupby</span> group data then we can aggragete data using one of the aggregation functions. In this example we gonna group all the power plants by country:"
   ]
  },
  {
   "cell_type": "code",
   "execution_count": null,
   "metadata": {
    "colab": {},
    "colab_type": "code",
    "id": "a7YJi7l45lqQ"
   },
   "outputs": [],
   "source": [
    "group_by_country = data.groupby([\"country\"])\n",
    "group_by_country.sum()"
   ]
  },
  {
   "cell_type": "markdown",
   "metadata": {
    "colab_type": "text",
    "id": "8Yzn421J5lqU"
   },
   "source": [
    "**Exercise**\n",
    "\n",
    "<img width=\"100\" src=\"https://drive.google.com/uc?export=view&id=1E8tR7B9YYUXsU_rddJAyq0FrM0MSelxZ\">\n",
    "\n",
    "\n",
    "1. Group the **powerplant_info** DataFrame by the type of **fuel1** and then sort by the column estimated generation in descending order."
   ]
  },
  {
   "cell_type": "code",
   "execution_count": null,
   "metadata": {
    "colab": {},
    "colab_type": "code",
    "id": "IAlU2I9eyuHX"
   },
   "outputs": [],
   "source": [
    "# put your code here"
   ]
  },
  {
   "cell_type": "markdown",
   "metadata": {
    "colab_type": "text",
    "id": "jIMcrIKt5lqU"
   },
   "source": [
    "### Pivot Table\n",
    "\n",
    "Pivot table is a table that summarize data from another table, those who use Microsoft Excel maybe be familiar with it and wikipedia gives a good explanation of the subject https://en.wikipedia.org/wiki/Pivot_table .\n",
    "\n",
    "On pandas we can use them as follow: "
   ]
  },
  {
   "cell_type": "code",
   "execution_count": null,
   "metadata": {
    "colab": {},
    "colab_type": "code",
    "id": "wx3Kc5jX5lqV"
   },
   "outputs": [],
   "source": [
    "import numpy as np\n",
    "# Create a pivot table with counting\n",
    "pivot_table_country_fuel = pd.pivot_table(data, index=['fuel1'], \n",
    "                                          columns=['country'],\n",
    "                                          values=['capacity_mw'],\n",
    "                                          aggfunc = np.sum, fill_value = 0)\n",
    "pivot_table_country_fuel.head()"
   ]
  }
 ],
 "metadata": {
  "colab": {
   "name": "IntroPandas.ipynb",
   "provenance": [],
   "version": "0.3.2"
  },
  "kernelspec": {
   "display_name": "Python 3",
   "language": "python",
   "name": "python3"
  },
  "language_info": {
   "codemirror_mode": {
    "name": "ipython",
    "version": 3
   },
   "file_extension": ".py",
   "mimetype": "text/x-python",
   "name": "python",
   "nbconvert_exporter": "python",
   "pygments_lexer": "ipython3",
   "version": "3.6.4"
  }
 },
 "nbformat": 4,
 "nbformat_minor": 1
}
